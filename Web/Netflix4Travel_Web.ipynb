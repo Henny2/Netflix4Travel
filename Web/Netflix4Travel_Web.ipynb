{
 "cells": [
  {
   "cell_type": "code",
   "execution_count": 1,
   "metadata": {},
   "outputs": [],
   "source": [
    "# https://github.com/munners17/INFO257-Sp2019/blob/master/webapp-workshop_1/flask_tutorial.md\n",
    "from flask import Flask, flash, redirect, render_template, request, session, abort\n",
    "from random import randint\n"
   ]
  },
  {
   "cell_type": "code",
   "execution_count": 2,
   "metadata": {},
   "outputs": [],
   "source": [
    "quotes = [ \"'If people do not believe that mathematics is simple, it is only because they do not realize how complicated life is.' -- John Louis von Neumann \",\n",
    "\"'Computer science is no more about computers than astronomy is about telescopes' --  Edsger Dijkstra \",\n",
    "\"'To understand recursion you must first understand recursion..' -- Unknown\",\n",
    "\"'You look at things that are and ask, why? I dream of things that never were and ask, why not?' -- Unknown\",\n",
    "\"'Mathematics is the key and door to the sciences.' -- Galileo Galilei\",\n",
    "\"'Not everyone will understand your journey. Thats fine. Its not their journey to make sense of. Its yours.' -- Unknown\"  ]\n"
   ]
  },
  {
   "cell_type": "code",
   "execution_count": 3,
   "metadata": {},
   "outputs": [
    {
     "name": "stdout",
     "output_type": "stream",
     "text": [
      " * Serving Flask app \"__main__\" (lazy loading)\n",
      " * Environment: production\n",
      "   WARNING: This is a development server. Do not use it in a production deployment.\n",
      "   Use a production WSGI server instead.\n",
      " * Debug mode: off\n"
     ]
    },
    {
     "name": "stderr",
     "output_type": "stream",
     "text": [
      " * Running on http://0.0.0.0:80/ (Press CTRL+C to quit)\n"
     ]
    }
   ],
   "source": [
    "app = Flask(__name__)\n",
    " \n",
    "@app.route(\"/\")\n",
    "def index():\n",
    "    return \"Netflix4Travel will be back in a moment!\"\n",
    "\n",
    "@app.route(\"/<string:name>/\")\n",
    "def hello(name):\n",
    "    randomNumber = randint(0,len(quotes)-1)\n",
    "    quote = quotes[randomNumber]\n",
    "    name = name\n",
    "    return render_template('test.html',**locals())\n",
    "    \n",
    " \n",
    "if __name__ == \"__main__\":\n",
    "    app.run(host='0.0.0.0', port=80)\n",
    "\n",
    "\n",
    "\n",
    "quotes = [ \"'If people do not believe that mathematics is simple, it is only because they do not realize how complicated life is.' -- John Louis von Neumann \",\n",
    "\"'Computer science is no more about computers than astronomy is about telescopes' --  Edsger Dijkstra \",\n",
    "\"'To understand recursion you must first understand recursion..' -- Unknown\",\n",
    "\"'You look at things that are and ask, why? I dream of things that never were and ask, why not?' -- Unknown\",\n",
    "\"'Mathematics is the key and door to the sciences.' -- Galileo Galilei\",\n",
    "\"'Not everyone will understand your journey. Thats fine. Its not their journey to make sense of. Its yours.' -- Unknown\"  ]\n",
    "randomNumber = randint(0,len(quotes)-1)\n",
    "quote = quotes[randomNumber]"
   ]
  },
  {
   "cell_type": "code",
   "execution_count": null,
   "metadata": {},
   "outputs": [],
   "source": []
  },
  {
   "cell_type": "code",
   "execution_count": null,
   "metadata": {},
   "outputs": [],
   "source": []
  },
  {
   "cell_type": "code",
   "execution_count": 11,
   "metadata": {},
   "outputs": [],
   "source": [
    "import sqlite3 as lite\n",
    "import sys\n",
    "\n",
    "con = lite.connect('user.db')\n",
    "\n",
    "with con:\n",
    "    \n",
    "    cur = con.cursor()    \n",
    "    cur.execute(\"DROP TABLE IF EXISTS Users\")\n",
    "    cur.execute(\"CREATE TABLE Users(Id INT, Name TEXT)\")\n",
    "    cur.execute(\"INSERT INTO Users VALUES(1,'Michelle')\")\n",
    "    cur.execute(\"INSERT INTO Users VALUES(2,'Sonya')\")\n",
    "    cur.execute(\"INSERT INTO Users VALUES(3,'Greg')\")\n",
    "    \n",
    "    \n",
    "    "
   ]
  },
  {
   "cell_type": "code",
   "execution_count": 10,
   "metadata": {},
   "outputs": [
    {
     "name": "stdout",
     "output_type": "stream",
     "text": [
      "[(1, 'Michelle'), (2, 'Sonya'), (3, 'Greg')]\n"
     ]
    }
   ],
   "source": [
    "with con:\n",
    "    cur = con.cursor()\n",
    "    cur.execute(\"SELECT * FROM Users\")\n",
    "    rows = cur.fetchall()\n",
    "print(rows)"
   ]
  },
  {
   "cell_type": "code",
   "execution_count": 13,
   "metadata": {},
   "outputs": [
    {
     "name": "stdout",
     "output_type": "stream",
     "text": [
      "2\n"
     ]
    }
   ],
   "source": [
    "print(2)"
   ]
  },
  {
   "cell_type": "code",
   "execution_count": null,
   "metadata": {},
   "outputs": [],
   "source": []
  }
 ],
 "metadata": {
  "kernelspec": {
   "display_name": "Python 3",
   "language": "python",
   "name": "python3"
  },
  "language_info": {
   "codemirror_mode": {
    "name": "ipython",
    "version": 3
   },
   "file_extension": ".py",
   "mimetype": "text/x-python",
   "name": "python",
   "nbconvert_exporter": "python",
   "pygments_lexer": "ipython3",
   "version": "3.7.4"
  }
 },
 "nbformat": 4,
 "nbformat_minor": 2
}
